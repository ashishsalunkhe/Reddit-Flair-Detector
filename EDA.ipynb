{
 "cells": [
  {
   "cell_type": "code",
   "execution_count": 2,
   "metadata": {},
   "outputs": [
    {
     "name": "stdout",
     "output_type": "stream",
     "text": [
      "Collecting pandasql\n",
      "  Downloading pandasql-0.7.3.tar.gz (26 kB)\n",
      "Requirement already satisfied: numpy in /home/ashish/anaconda3/lib/python3.7/site-packages (from pandasql) (1.18.2)\n",
      "Requirement already satisfied: pandas in /home/ashish/anaconda3/lib/python3.7/site-packages (from pandasql) (1.0.3)\n",
      "Requirement already satisfied: sqlalchemy in /home/ashish/anaconda3/lib/python3.7/site-packages (from pandasql) (1.3.15)\n",
      "Requirement already satisfied: python-dateutil>=2.6.1 in /home/ashish/anaconda3/lib/python3.7/site-packages (from pandas->pandasql) (2.8.1)\n",
      "Requirement already satisfied: pytz>=2017.2 in /home/ashish/anaconda3/lib/python3.7/site-packages (from pandas->pandasql) (2019.3)\n",
      "Requirement already satisfied: six>=1.5 in /home/ashish/anaconda3/lib/python3.7/site-packages (from python-dateutil>=2.6.1->pandas->pandasql) (1.14.0)\n",
      "Building wheels for collected packages: pandasql\n",
      "  Building wheel for pandasql (setup.py) ... \u001b[?25ldone\n",
      "\u001b[?25h  Created wheel for pandasql: filename=pandasql-0.7.3-py3-none-any.whl size=26817 sha256=1f8d8e07a5c57965f66978955b678e63049ba8f16b312a2926cf839df02af071\n",
      "  Stored in directory: /home/ashish/.cache/pip/wheels/5c/4b/ec/41f4e116c8053c3654e2c2a47c62b4fca34cc67ef7b55deb7f\n",
      "Successfully built pandasql\n",
      "Installing collected packages: pandasql\n",
      "Successfully installed pandasql-0.7.3\n"
     ]
    }
   ],
   "source": [
    "#!pip3 install pandasql"
   ]
  },
  {
   "cell_type": "code",
   "execution_count": 2,
   "metadata": {},
   "outputs": [
    {
     "name": "stderr",
     "output_type": "stream",
     "text": [
      "\n",
      "Bad key \"text.kerning_factor\" on line 4 in\n",
      "/home/ashish/anaconda3/lib/python3.7/site-packages/matplotlib/mpl-data/stylelib/_classic_test_patch.mplstyle.\n",
      "You probably need to get an updated matplotlibrc file from\n",
      "https://github.com/matplotlib/matplotlib/blob/v3.1.3/matplotlibrc.template\n",
      "or from the matplotlib source distribution\n",
      "[nltk_data] Downloading package stopwords to /home/ashish/nltk_data...\n",
      "[nltk_data]   Package stopwords is already up-to-date!\n"
     ]
    }
   ],
   "source": [
    "import pandas as pd\n",
    "import numpy as np\n",
    "import matplotlib.pyplot as plt\n",
    "import seaborn as sns\n",
    "import pandasql\n",
    "import string\n",
    "import re\n",
    "import nltk\n",
    "nltk.download('stopwords')\n",
    "%matplotlib inline"
   ]
  },
  {
   "cell_type": "code",
   "execution_count": 3,
   "metadata": {},
   "outputs": [],
   "source": [
    "rindia = pd.read_csv('all_rIndiaScrape.csv')"
   ]
  },
  {
   "cell_type": "code",
   "execution_count": 4,
   "metadata": {},
   "outputs": [
    {
     "data": {
      "text/html": [
       "<div>\n",
       "<style scoped>\n",
       "    .dataframe tbody tr th:only-of-type {\n",
       "        vertical-align: middle;\n",
       "    }\n",
       "\n",
       "    .dataframe tbody tr th {\n",
       "        vertical-align: top;\n",
       "    }\n",
       "\n",
       "    .dataframe thead th {\n",
       "        text-align: right;\n",
       "    }\n",
       "</style>\n",
       "<table border=\"1\" class=\"dataframe\">\n",
       "  <thead>\n",
       "    <tr style=\"text-align: right;\">\n",
       "      <th></th>\n",
       "      <th>id</th>\n",
       "      <th>title</th>\n",
       "      <th>content</th>\n",
       "      <th>is_original_content</th>\n",
       "      <th>author</th>\n",
       "      <th>flair</th>\n",
       "      <th>score</th>\n",
       "      <th>timestamp</th>\n",
       "      <th>comments_count</th>\n",
       "      <th>crossposts_count</th>\n",
       "      <th>comments</th>\n",
       "      <th>removed_by</th>\n",
       "      <th>self_posted</th>\n",
       "      <th>nsfw</th>\n",
       "      <th>is_stickied</th>\n",
       "      <th>url</th>\n",
       "    </tr>\n",
       "  </thead>\n",
       "  <tbody>\n",
       "    <tr>\n",
       "      <th>0</th>\n",
       "      <td>g014wc</td>\n",
       "      <td>Lost my Job, Sick Mother and Paralysed Dad, In...</td>\n",
       "      <td>Hi....It's really tough time for everyone. I r...</td>\n",
       "      <td>False</td>\n",
       "      <td>sanand_satwik</td>\n",
       "      <td>AskIndia</td>\n",
       "      <td>1049</td>\n",
       "      <td>2020-04-13 07:12:28</td>\n",
       "      <td>131</td>\n",
       "      <td>3</td>\n",
       "      <td>Uh maybe this is out of your reach financially...</td>\n",
       "      <td>NaN</td>\n",
       "      <td>True</td>\n",
       "      <td>False</td>\n",
       "      <td>False</td>\n",
       "      <td>https://www.reddit.com/r/india/comments/g014wc...</td>\n",
       "    </tr>\n",
       "    <tr>\n",
       "      <th>1</th>\n",
       "      <td>fxofyu</td>\n",
       "      <td>Why does the government come with a begging bo...</td>\n",
       "      <td>We have floods, terrorist attacks, famines due...</td>\n",
       "      <td>False</td>\n",
       "      <td>TWO-WHEELER-MAFIA</td>\n",
       "      <td>AskIndia</td>\n",
       "      <td>646</td>\n",
       "      <td>2020-04-09 21:34:21</td>\n",
       "      <td>204</td>\n",
       "      <td>0</td>\n",
       "      <td>All money went to Statue of Unity!</td>\n",
       "      <td>NaN</td>\n",
       "      <td>True</td>\n",
       "      <td>False</td>\n",
       "      <td>False</td>\n",
       "      <td>https://www.reddit.com/r/india/comments/fxofyu...</td>\n",
       "    </tr>\n",
       "    <tr>\n",
       "      <th>2</th>\n",
       "      <td>g0zlly</td>\n",
       "      <td>Mother's condition is going worse due to hepat...</td>\n",
       "      <td>Hi folks, I really appreciate the warm respons...</td>\n",
       "      <td>False</td>\n",
       "      <td>sanand_satwik</td>\n",
       "      <td>AskIndia</td>\n",
       "      <td>761</td>\n",
       "      <td>2020-04-14 18:56:11</td>\n",
       "      <td>94</td>\n",
       "      <td>0</td>\n",
       "      <td>Upvoted for visibility</td>\n",
       "      <td>NaN</td>\n",
       "      <td>True</td>\n",
       "      <td>False</td>\n",
       "      <td>False</td>\n",
       "      <td>https://www.reddit.com/r/india/comments/g0zlly...</td>\n",
       "    </tr>\n",
       "    <tr>\n",
       "      <th>3</th>\n",
       "      <td>fvy95j</td>\n",
       "      <td>Men who are 30+ and have decided not to get ma...</td>\n",
       "      <td>The corona virus has given me some time to thi...</td>\n",
       "      <td>False</td>\n",
       "      <td>indianoogler</td>\n",
       "      <td>AskIndia</td>\n",
       "      <td>264</td>\n",
       "      <td>2020-04-07 02:26:25</td>\n",
       "      <td>206</td>\n",
       "      <td>0</td>\n",
       "      <td>I don’t think I’ll make it to old age. I doubt...</td>\n",
       "      <td>NaN</td>\n",
       "      <td>True</td>\n",
       "      <td>False</td>\n",
       "      <td>False</td>\n",
       "      <td>https://www.reddit.com/r/india/comments/fvy95j...</td>\n",
       "    </tr>\n",
       "    <tr>\n",
       "      <th>4</th>\n",
       "      <td>g1lmhg</td>\n",
       "      <td>[Please Advice] Reality punched me in the face...</td>\n",
       "      <td>Sorry Reddit, this post is going to be long. P...</td>\n",
       "      <td>False</td>\n",
       "      <td>throaway-forprivacy</td>\n",
       "      <td>AskIndia</td>\n",
       "      <td>434</td>\n",
       "      <td>2020-04-15 18:49:08</td>\n",
       "      <td>83</td>\n",
       "      <td>0</td>\n",
       "      <td>Don't take on formal debt to clear informal de...</td>\n",
       "      <td>NaN</td>\n",
       "      <td>True</td>\n",
       "      <td>False</td>\n",
       "      <td>False</td>\n",
       "      <td>https://www.reddit.com/r/india/comments/g1lmhg...</td>\n",
       "    </tr>\n",
       "  </tbody>\n",
       "</table>\n",
       "</div>"
      ],
      "text/plain": [
       "       id                                              title  \\\n",
       "0  g014wc  Lost my Job, Sick Mother and Paralysed Dad, In...   \n",
       "1  fxofyu  Why does the government come with a begging bo...   \n",
       "2  g0zlly  Mother's condition is going worse due to hepat...   \n",
       "3  fvy95j  Men who are 30+ and have decided not to get ma...   \n",
       "4  g1lmhg  [Please Advice] Reality punched me in the face...   \n",
       "\n",
       "                                             content  is_original_content  \\\n",
       "0  Hi....It's really tough time for everyone. I r...                False   \n",
       "1  We have floods, terrorist attacks, famines due...                False   \n",
       "2  Hi folks, I really appreciate the warm respons...                False   \n",
       "3  The corona virus has given me some time to thi...                False   \n",
       "4  Sorry Reddit, this post is going to be long. P...                False   \n",
       "\n",
       "                author     flair  score            timestamp  comments_count  \\\n",
       "0        sanand_satwik  AskIndia   1049  2020-04-13 07:12:28             131   \n",
       "1    TWO-WHEELER-MAFIA  AskIndia    646  2020-04-09 21:34:21             204   \n",
       "2        sanand_satwik  AskIndia    761  2020-04-14 18:56:11              94   \n",
       "3         indianoogler  AskIndia    264  2020-04-07 02:26:25             206   \n",
       "4  throaway-forprivacy  AskIndia    434  2020-04-15 18:49:08              83   \n",
       "\n",
       "   crossposts_count                                           comments  \\\n",
       "0                 3  Uh maybe this is out of your reach financially...   \n",
       "1                 0                All money went to Statue of Unity!    \n",
       "2                 0                            Upvoted for visibility    \n",
       "3                 0  I don’t think I’ll make it to old age. I doubt...   \n",
       "4                 0  Don't take on formal debt to clear informal de...   \n",
       "\n",
       "   removed_by  self_posted   nsfw  is_stickied  \\\n",
       "0         NaN         True  False        False   \n",
       "1         NaN         True  False        False   \n",
       "2         NaN         True  False        False   \n",
       "3         NaN         True  False        False   \n",
       "4         NaN         True  False        False   \n",
       "\n",
       "                                                 url  \n",
       "0  https://www.reddit.com/r/india/comments/g014wc...  \n",
       "1  https://www.reddit.com/r/india/comments/fxofyu...  \n",
       "2  https://www.reddit.com/r/india/comments/g0zlly...  \n",
       "3  https://www.reddit.com/r/india/comments/fvy95j...  \n",
       "4  https://www.reddit.com/r/india/comments/g1lmhg...  "
      ]
     },
     "execution_count": 4,
     "metadata": {},
     "output_type": "execute_result"
    }
   ],
   "source": [
    "rindia.head()"
   ]
  },
  {
   "cell_type": "code",
   "execution_count": 5,
   "metadata": {},
   "outputs": [
    {
     "name": "stdout",
     "output_type": "stream",
     "text": [
      "<class 'pandas.core.frame.DataFrame'>\n",
      "RangeIndex: 2882 entries, 0 to 2881\n",
      "Data columns (total 16 columns):\n",
      " #   Column               Non-Null Count  Dtype  \n",
      "---  ------               --------------  -----  \n",
      " 0   id                   2882 non-null   object \n",
      " 1   title                2882 non-null   object \n",
      " 2   content              1236 non-null   object \n",
      " 3   is_original_content  2882 non-null   bool   \n",
      " 4   author               2882 non-null   object \n",
      " 5   flair                2882 non-null   object \n",
      " 6   score                2882 non-null   int64  \n",
      " 7   timestamp            2882 non-null   object \n",
      " 8   comments_count       2882 non-null   int64  \n",
      " 9   crossposts_count     2882 non-null   int64  \n",
      " 10  comments             2720 non-null   object \n",
      " 11  removed_by           0 non-null      float64\n",
      " 12  self_posted          2882 non-null   bool   \n",
      " 13  nsfw                 2882 non-null   bool   \n",
      " 14  is_stickied          2882 non-null   bool   \n",
      " 15  url                  2882 non-null   object \n",
      "dtypes: bool(4), float64(1), int64(3), object(8)\n",
      "memory usage: 281.6+ KB\n"
     ]
    },
    {
     "data": {
      "text/html": [
       "<div>\n",
       "<style scoped>\n",
       "    .dataframe tbody tr th:only-of-type {\n",
       "        vertical-align: middle;\n",
       "    }\n",
       "\n",
       "    .dataframe tbody tr th {\n",
       "        vertical-align: top;\n",
       "    }\n",
       "\n",
       "    .dataframe thead th {\n",
       "        text-align: right;\n",
       "    }\n",
       "</style>\n",
       "<table border=\"1\" class=\"dataframe\">\n",
       "  <thead>\n",
       "    <tr style=\"text-align: right;\">\n",
       "      <th></th>\n",
       "      <th>score</th>\n",
       "      <th>comments_count</th>\n",
       "      <th>crossposts_count</th>\n",
       "      <th>removed_by</th>\n",
       "    </tr>\n",
       "  </thead>\n",
       "  <tbody>\n",
       "    <tr>\n",
       "      <th>count</th>\n",
       "      <td>2882.000000</td>\n",
       "      <td>2882.000000</td>\n",
       "      <td>2882.000000</td>\n",
       "      <td>0.0</td>\n",
       "    </tr>\n",
       "    <tr>\n",
       "      <th>mean</th>\n",
       "      <td>303.589521</td>\n",
       "      <td>175.237682</td>\n",
       "      <td>0.283137</td>\n",
       "      <td>NaN</td>\n",
       "    </tr>\n",
       "    <tr>\n",
       "      <th>std</th>\n",
       "      <td>846.937984</td>\n",
       "      <td>458.747959</td>\n",
       "      <td>1.638965</td>\n",
       "      <td>NaN</td>\n",
       "    </tr>\n",
       "    <tr>\n",
       "      <th>min</th>\n",
       "      <td>0.000000</td>\n",
       "      <td>0.000000</td>\n",
       "      <td>0.000000</td>\n",
       "      <td>NaN</td>\n",
       "    </tr>\n",
       "    <tr>\n",
       "      <th>25%</th>\n",
       "      <td>20.000000</td>\n",
       "      <td>9.000000</td>\n",
       "      <td>0.000000</td>\n",
       "      <td>NaN</td>\n",
       "    </tr>\n",
       "    <tr>\n",
       "      <th>50%</th>\n",
       "      <td>71.000000</td>\n",
       "      <td>29.000000</td>\n",
       "      <td>0.000000</td>\n",
       "      <td>NaN</td>\n",
       "    </tr>\n",
       "    <tr>\n",
       "      <th>75%</th>\n",
       "      <td>223.000000</td>\n",
       "      <td>100.000000</td>\n",
       "      <td>0.000000</td>\n",
       "      <td>NaN</td>\n",
       "    </tr>\n",
       "    <tr>\n",
       "      <th>max</th>\n",
       "      <td>19715.000000</td>\n",
       "      <td>8367.000000</td>\n",
       "      <td>56.000000</td>\n",
       "      <td>NaN</td>\n",
       "    </tr>\n",
       "  </tbody>\n",
       "</table>\n",
       "</div>"
      ],
      "text/plain": [
       "              score  comments_count  crossposts_count  removed_by\n",
       "count   2882.000000     2882.000000       2882.000000         0.0\n",
       "mean     303.589521      175.237682          0.283137         NaN\n",
       "std      846.937984      458.747959          1.638965         NaN\n",
       "min        0.000000        0.000000          0.000000         NaN\n",
       "25%       20.000000        9.000000          0.000000         NaN\n",
       "50%       71.000000       29.000000          0.000000         NaN\n",
       "75%      223.000000      100.000000          0.000000         NaN\n",
       "max    19715.000000     8367.000000         56.000000         NaN"
      ]
     },
     "execution_count": 5,
     "metadata": {},
     "output_type": "execute_result"
    }
   ],
   "source": [
    "rindia.info()\n",
    "rindia.describe()"
   ]
  },
  {
   "cell_type": "code",
   "execution_count": 6,
   "metadata": {},
   "outputs": [],
   "source": [
    "rindia = rindia.drop_duplicates()"
   ]
  },
  {
   "cell_type": "code",
   "execution_count": 7,
   "metadata": {},
   "outputs": [
    {
     "data": {
      "text/plain": [
       "((2882, 16),\n",
       " id                      object\n",
       " title                   object\n",
       " content                 object\n",
       " is_original_content       bool\n",
       " author                  object\n",
       " flair                   object\n",
       " score                    int64\n",
       " timestamp               object\n",
       " comments_count           int64\n",
       " crossposts_count         int64\n",
       " comments                object\n",
       " removed_by             float64\n",
       " self_posted               bool\n",
       " nsfw                      bool\n",
       " is_stickied               bool\n",
       " url                     object\n",
       " dtype: object)"
      ]
     },
     "execution_count": 7,
     "metadata": {},
     "output_type": "execute_result"
    }
   ],
   "source": [
    "rindia.shape,rindia.dtypes"
   ]
  },
  {
   "cell_type": "code",
   "execution_count": 8,
   "metadata": {},
   "outputs": [
    {
     "data": {
      "text/plain": [
       "id                        0\n",
       "title                     0\n",
       "content                1646\n",
       "is_original_content       0\n",
       "author                    0\n",
       "flair                     0\n",
       "score                     0\n",
       "timestamp                 0\n",
       "comments_count            0\n",
       "crossposts_count          0\n",
       "comments                162\n",
       "removed_by             2882\n",
       "self_posted               0\n",
       "nsfw                      0\n",
       "is_stickied               0\n",
       "url                       0\n",
       "dtype: int64"
      ]
     },
     "execution_count": 8,
     "metadata": {},
     "output_type": "execute_result"
    }
   ],
   "source": [
    "rindia.isnull().sum()"
   ]
  },
  {
   "cell_type": "markdown",
   "metadata": {},
   "source": [
    "Plotting the frequency distribution of flairs over all posts"
   ]
  },
  {
   "cell_type": "code",
   "execution_count": 9,
   "metadata": {},
   "outputs": [
    {
     "data": {
      "image/png": "[encoded data removed]",
      "text/plain": [
       "<Figure size 432x288 with 1 Axes>"
      ]
     },
     "metadata": {
      "needs_background": "light"
     },
     "output_type": "display_data"
    }
   ],
   "source": [
    "# flair count\n",
    "num_flair = rindia.flair.value_counts()\n",
    "\n",
    "# Plotting posts per flair\n",
    "\n",
    "plt.bar(num_flair.index,num_flair)\n",
    "plt.title(\"Posts per Flair\")\n",
    "plt.xticks(rotation=90,fontsize=12)\n",
    "plt.ylabel('Number of Occurences',fontsize=12)\n",
    "plt.xlabel('Flair Types',fontsize=12)\n",
    "plt.show()"
   ]
  },
  {
   "cell_type": "markdown",
   "metadata": {},
   "source": [
    "Plotting the distribution of adult content"
   ]
  },
  {
   "cell_type": "code",
   "execution_count": 10,
   "metadata": {},
   "outputs": [
    {
     "name": "stdout",
     "output_type": "stream",
     "text": [
      "Content Marked as NSFW - over 18 age: False    2882\n",
      "Name: nsfw, dtype: int64\n"
     ]
    },
    {
     "data": {
      "text/plain": [
       "[Text(0.5, 0, 'Adult content'), Text(0.5, 1.0, 'Distribution of Conetent')]"
      ]
     },
     "execution_count": 10,
     "metadata": {},
     "output_type": "execute_result"
    },
    {
     "data": {
      "image/png": "[encoded data removed]",
      "text/plain": [
       "<Figure size 432x288 with 1 Axes>"
      ]
     },
     "metadata": {
      "needs_background": "light"
     },
     "output_type": "display_data"
    }
   ],
   "source": [
    "# Getting the count of content marked as nsfw i.e. content over 18 age\n",
    "nsfw_count = rindia['nsfw'].value_counts()\n",
    "print(\"Content Marked as NSFW - over 18 age:\",nsfw_count)\n",
    "\n",
    "# Plotting count of adult content\n",
    "fig, ax = plt.subplots()\n",
    "sns.countplot(rindia.nsfw)\n",
    "ax.set(xlabel='Adult content', title='Distribution of Conetent')"
   ]
  },
  {
   "cell_type": "code",
   "execution_count": 11,
   "metadata": {},
   "outputs": [
    {
     "data": {
      "text/plain": [
       "<matplotlib.legend.Legend at 0x7f8b19e8ac50>"
      ]
     },
     "execution_count": 11,
     "metadata": {},
     "output_type": "execute_result"
    },
    {
     "data": {
      "image/png": "[encoded data removed]",
      "text/plain": [
       "<Figure size 1008x288 with 2 Axes>"
      ]
     },
     "metadata": {
      "needs_background": "light"
     },
     "output_type": "display_data"
    }
   ],
   "source": [
    "'''\n",
    "If the distribution is uneven, checking for exact count.\n",
    "'''\n",
    "\n",
    "#(rindia[rindia['nsfw'] == True]['id'].count() / rindia.shape[0] ) * 100\n",
    "nsfw_avg = rindia[rindia['nsfw'] == True]['score'].mean()\n",
    "mass_avg = rindia[rindia['nsfw'] == False]['score'].mean()\n",
    "fig, (ax0, ax1) = plt.subplots(\n",
    "nrows=1,ncols=2, sharey=True, figsize=(14,4))\n",
    "sns.kdeplot(rindia[rindia['nsfw'] == True]['score'], ax=ax0, color='black', label='Score')\n",
    "sns.kdeplot(rindia[rindia['nsfw'] == False]['score'], ax=ax1, color='green', label='Score')\n",
    "ax1.set(xlim=(0,1000), xlabel='Score', title='Mass-Oriented Content')\n",
    "ax0.set(xlabel='Score', title='NSFW Content', ylabel='Frequency')\n",
    "ax0.axvline(x=nsfw_avg, label='Average', linestyle='--', color='blue')\n",
    "ax1.axvline(x=mass_avg, label='Average', linestyle='--', color='blue')\n",
    "ax1.legend()\n",
    "ax0.legend()"
   ]
  },
  {
   "cell_type": "markdown",
   "metadata": {},
   "source": [
    "The graph shows no occurence of NSFW content. "
   ]
  },
  {
   "cell_type": "code",
   "execution_count": 12,
   "metadata": {},
   "outputs": [],
   "source": [
    "df_time = rindia.set_index('timestamp')"
   ]
  },
  {
   "cell_type": "code",
   "execution_count": null,
   "metadata": {},
   "outputs": [],
   "source": []
  }
 ],
 "metadata": {
  "kernelspec": {
   "display_name": "Python 3",
   "language": "python",
   "name": "python3"
  },
  "language_info": {
   "codemirror_mode": {
    "name": "ipython",
    "version": 3
   },
   "file_extension": ".py",
   "mimetype": "text/x-python",
   "name": "python",
   "nbconvert_exporter": "python",
   "pygments_lexer": "ipython3",
   "version": "3.7.4"
  }
 },
 "nbformat": 4,
 "nbformat_minor": 4
}
