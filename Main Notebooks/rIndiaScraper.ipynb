{
 "cells": [
  {
   "cell_type": "code",
   "execution_count": 2,
   "metadata": {},
   "outputs": [],
   "source": [
    "import praw # Python Reddit API Wrapper\n",
    "import pandas as pd\n",
    "import os\n",
    "from datetime import datetime\n",
    "from tqdm import tqdm"
   ]
  },
  {
   "cell_type": "code",
   "execution_count": 3,
   "metadata": {},
   "outputs": [],
   "source": [
    "\n",
    "reddit = praw.Reddit(client_id='-mb7llu03-AJvg', client_secret='YFPwnS8jjILemmCRNvzM3SAZKT4', user_agent='redditflare', username='ashishsalunkhe',password='red@2722ash')"
   ]
  },
  {
   "cell_type": "code",
   "execution_count": 4,
   "metadata": {},
   "outputs": [],
   "source": [
    "#help(reddit)"
   ]
  },
  {
   "cell_type": "code",
   "execution_count": 18,
   "metadata": {},
   "outputs": [],
   "source": [
    "# selected \"india\" as the subreddit\n",
    "subreddit = reddit.subreddit('india')\n",
    "\n",
    "# created a dictionary to store features\n",
    "rindia = { \"id\": [],\n",
    "          \"title\": [],\n",
    "          \"content\": [],\n",
    "          \"is_original_content\": [],\n",
    "          \"author\": [],\n",
    "          \"flair\": [],\n",
    "          \"score\": [],\n",
    "          \"timestamp\": [],\n",
    "          \"comments_count\": [],\n",
    "          \"crossposts_count\": [],\n",
    "          \"comments\": [],\n",
    "          \"removed_by\": [],\n",
    "          \"self_posted\": [],\n",
    "          \"nsfw\": [],\n",
    "          \"is_stickied\": [],\n",
    "          \"url\": []\n",
    "         }\n",
    "# list of flairs to scrape related posts\n",
    "# flairs = [\"Coronavirus\",\"Scheduled\", \"AskIndia\", \"[R]eddiquette\", \n",
    "#            \"Politics\",\"Non-Political\", \"Business/Finance\",\n",
    "#           \"Policy/Economy\", \"Science/Technology\", \"Sports\", \"Food\", \"AMA\",\"Photography\"]\n",
    "flairs = [\"Food\",\"[R]eddiquette\",\"Politics\",\"Scheduled\",\"Photography\",\"Policy/Economy\",\"AskIndia\",\"Sports\",\n",
    "          \"Non-Political\",\"Science/Technology\",\"AMA\",\"Business/Finance\",\"Coronavirus\"]"
   ]
  },
  {
   "cell_type": "code",
   "execution_count": null,
   "metadata": {},
   "outputs": [
    {
     "name": "stderr",
     "output_type": "stream",
     "text": [
      " 23%|██▎       | 3/13 [09:21<28:52, 173.27s/it]"
     ]
    }
   ],
   "source": [
    "for flair in tqdm(flairs):\n",
    "    \n",
    "  # getting subreddits with limit 200 subreddits per flair\n",
    "  get_subreddits = subreddit.search(f\"flair_name:{flair}\", limit = 1000)\n",
    "  \n",
    "  for submission in get_subreddits:\n",
    "    \n",
    "    rindia[\"id\"].append(submission.id)\n",
    "    rindia[\"title\"].append(submission.title)\n",
    "    rindia[\"content\"].append(submission.selftext)\n",
    "    rindia[\"is_original_content\"].append(submission.is_original_content)\n",
    "    rindia[\"author\"].append(submission.author)\n",
    "    rindia[\"flair\"].append(flair)\n",
    "    rindia[\"score\"].append(submission.score)\n",
    "    rindia[\"timestamp\"].append(submission.created)\n",
    "    rindia[\"comments_count\"].append(submission.num_comments)    \n",
    "    rindia[\"crossposts_count\"].append(submission.num_crossposts)\n",
    "    rindia[\"removed_by\"].append(submission.removed_by)\n",
    "    rindia[\"self_posted\"].append(submission.is_self)\n",
    "    rindia[\"nsfw\"].append(submission.over_18)\n",
    "    rindia[\"is_stickied\"].append(submission.stickied)\n",
    "    rindia[\"url\"].append(submission.url)\n",
    "    \n",
    "    comments =  ''\n",
    "    submission.comments.replace_more(limit=0)\n",
    "    \n",
    "    # total comments limit upto 15\n",
    "    limit = 15\n",
    "    i = 0\n",
    "    for comment in submission.comments.list():\n",
    "        comments = comment.body + \" \"\n",
    "        i = i+1\n",
    "        if(i > limit):\n",
    "            break\n",
    "    rindia[\"comments\"].append(comments)"
   ]
  },
  {
   "cell_type": "code",
   "execution_count": 9,
   "metadata": {},
   "outputs": [],
   "source": [
    "# subreddit = reddit.subreddit('india')\n",
    "\n",
    "# #scraping hot posts on reddit\n",
    "# hot_rindia = subreddit.hot(limit=2000)\n",
    "\n",
    "# all_hot_rindia = []\n",
    "\n",
    "# for submission in hot_rindia:\n",
    "#     post={\n",
    "#         \"id\": submission.id,\n",
    "#         \"title\": submission.title,\n",
    "#         \"content\": submission.selftext,\n",
    "#         \"author\": submission.author,\n",
    "#         \"flair\": submission.link_flair_text,\n",
    "#         \"is_original_content\": submission.is_original_content,\n",
    "#         \"author_flair_text\": submission.author_flair_text,\n",
    "#         \"self_posted\": submission.is_self,\n",
    "#         #\"domain\": submission.domain,\n",
    "#         \"is_stickied\":submission.stickied,\n",
    "#         \"comments_count\": submission.num_comments,\n",
    "#         \"crossposts_count\": submission.num_crossposts,\n",
    "#         #\"num_reports\": submission.num_reports,\n",
    "#         \"nsfw\": submission.over_18,\n",
    "#         \"removed_by\": submission.removed_by,\n",
    "#         \"removed_by_category\": submission.removed_by_category,\n",
    "#         \"gilded\": submission.gilded,\n",
    "#         \"timestamp\": submission.created,\n",
    "#         \"score\": submission.score,\n",
    "#         #\"subreddit\": submission.subreddit,\n",
    "#         #\"upvotes\": submission.upvote,\n",
    "#         #\"upvote_ratio\": submission.upvote_ratio,\n",
    "#         #\"downvotes\": submission.downvote,\n",
    "#         \"url\": submission.url\n",
    "#     }\n",
    "#     all_hot_rindia.append(post)"
   ]
  },
  {
   "cell_type": "code",
   "execution_count": 7,
   "metadata": {},
   "outputs": [],
   "source": [
    "all_rIndia = pd.DataFrame(rindia)"
   ]
  },
  {
   "cell_type": "code",
   "execution_count": 8,
   "metadata": {},
   "outputs": [],
   "source": [
    "def timestamp_to_date(timestamp):\n",
    "    return datetime.fromtimestamp(timestamp)"
   ]
  },
  {
   "cell_type": "code",
   "execution_count": 9,
   "metadata": {},
   "outputs": [],
   "source": [
    "tstmp = all_rIndia[\"timestamp\"].apply(timestamp_to_date)"
   ]
  },
  {
   "cell_type": "code",
   "execution_count": 10,
   "metadata": {},
   "outputs": [
    {
     "data": {
      "text/html": [
       "<div>\n",
       "<style scoped>\n",
       "    .dataframe tbody tr th:only-of-type {\n",
       "        vertical-align: middle;\n",
       "    }\n",
       "\n",
       "    .dataframe tbody tr th {\n",
       "        vertical-align: top;\n",
       "    }\n",
       "\n",
       "    .dataframe thead th {\n",
       "        text-align: right;\n",
       "    }\n",
       "</style>\n",
       "<table border=\"1\" class=\"dataframe\">\n",
       "  <thead>\n",
       "    <tr style=\"text-align: right;\">\n",
       "      <th></th>\n",
       "      <th>id</th>\n",
       "      <th>title</th>\n",
       "      <th>content</th>\n",
       "      <th>is_original_content</th>\n",
       "      <th>author</th>\n",
       "      <th>flair</th>\n",
       "      <th>score</th>\n",
       "      <th>timestamp</th>\n",
       "      <th>comments_count</th>\n",
       "      <th>crossposts_count</th>\n",
       "      <th>comments</th>\n",
       "      <th>removed_by</th>\n",
       "      <th>self_posted</th>\n",
       "      <th>nsfw</th>\n",
       "      <th>is_stickied</th>\n",
       "      <th>url</th>\n",
       "    </tr>\n",
       "  </thead>\n",
       "  <tbody>\n",
       "    <tr>\n",
       "      <th>0</th>\n",
       "      <td>2ywjv0</td>\n",
       "      <td>A Tale of an old man, fiery writer, his mega a...</td>\n",
       "      <td>As asked by /u/crozyguy. Not a referenced, cit...</td>\n",
       "      <td>False</td>\n",
       "      <td>RajaRajaC</td>\n",
       "      <td>Food</td>\n",
       "      <td>144</td>\n",
       "      <td>2015-03-14 02:03:49</td>\n",
       "      <td>158</td>\n",
       "      <td>0</td>\n",
       "      <td>Nice, waiting for more.</td>\n",
       "      <td>None</td>\n",
       "      <td>True</td>\n",
       "      <td>False</td>\n",
       "      <td>False</td>\n",
       "      <td>https://www.reddit.com/r/india/comments/2ywjv0...</td>\n",
       "    </tr>\n",
       "    <tr>\n",
       "      <th>1</th>\n",
       "      <td>3huilc</td>\n",
       "      <td>[R] Updated Wiki, Rules &amp; Flairs</td>\n",
       "      <td>#Comment Moderation in Political &amp; Religious T...</td>\n",
       "      <td>False</td>\n",
       "      <td>r_india_mod</td>\n",
       "      <td>Food</td>\n",
       "      <td>35</td>\n",
       "      <td>2015-08-22 03:07:11</td>\n",
       "      <td>98</td>\n",
       "      <td>0</td>\n",
       "      <td>Nice. Also please try and do a full revision o...</td>\n",
       "      <td>None</td>\n",
       "      <td>True</td>\n",
       "      <td>False</td>\n",
       "      <td>False</td>\n",
       "      <td>https://www.reddit.com/r/india/comments/3huilc...</td>\n",
       "    </tr>\n",
       "    <tr>\n",
       "      <th>2</th>\n",
       "      <td>fyyx8c</td>\n",
       "      <td>The wealth inequality in India is truly horrif...</td>\n",
       "      <td></td>\n",
       "      <td>False</td>\n",
       "      <td>sinsandtonic</td>\n",
       "      <td>Politics</td>\n",
       "      <td>9939</td>\n",
       "      <td>2020-04-11 20:47:54</td>\n",
       "      <td>867</td>\n",
       "      <td>8</td>\n",
       "      <td>Source— https://www.thecitizen.in/index.php/en...</td>\n",
       "      <td>None</td>\n",
       "      <td>False</td>\n",
       "      <td>False</td>\n",
       "      <td>False</td>\n",
       "      <td>https://i.redd.it/3rol63nk35s41.jpg</td>\n",
       "    </tr>\n",
       "    <tr>\n",
       "      <th>3</th>\n",
       "      <td>f9outu</td>\n",
       "      <td>Fuck all Religion</td>\n",
       "      <td>Fuck all religion. Fuck Hindusim, fuck Islam, ...</td>\n",
       "      <td>False</td>\n",
       "      <td>pking3</td>\n",
       "      <td>Politics</td>\n",
       "      <td>17906</td>\n",
       "      <td>2020-02-26 19:40:49</td>\n",
       "      <td>4190</td>\n",
       "      <td>36</td>\n",
       "      <td>We're not going to get blown out in a supernov...</td>\n",
       "      <td>None</td>\n",
       "      <td>True</td>\n",
       "      <td>False</td>\n",
       "      <td>False</td>\n",
       "      <td>https://www.reddit.com/r/india/comments/f9outu...</td>\n",
       "    </tr>\n",
       "    <tr>\n",
       "      <th>4</th>\n",
       "      <td>g7vfmg</td>\n",
       "      <td>PM Cares Fund</td>\n",
       "      <td></td>\n",
       "      <td>False</td>\n",
       "      <td>sudden_dust</td>\n",
       "      <td>Politics</td>\n",
       "      <td>1345</td>\n",
       "      <td>2020-04-26 05:05:43</td>\n",
       "      <td>127</td>\n",
       "      <td>2</td>\n",
       "      <td>1,76,000 crore scam was real transparency.... ...</td>\n",
       "      <td>None</td>\n",
       "      <td>False</td>\n",
       "      <td>False</td>\n",
       "      <td>False</td>\n",
       "      <td>https://i.redd.it/uw1w1ha5hzu41.jpg</td>\n",
       "    </tr>\n",
       "  </tbody>\n",
       "</table>\n",
       "</div>"
      ],
      "text/plain": [
       "       id                                              title  \\\n",
       "0  2ywjv0  A Tale of an old man, fiery writer, his mega a...   \n",
       "1  3huilc                   [R] Updated Wiki, Rules & Flairs   \n",
       "2  fyyx8c  The wealth inequality in India is truly horrif...   \n",
       "3  f9outu                                  Fuck all Religion   \n",
       "4  g7vfmg                                      PM Cares Fund   \n",
       "\n",
       "                                             content  is_original_content  \\\n",
       "0  As asked by /u/crozyguy. Not a referenced, cit...                False   \n",
       "1  #Comment Moderation in Political & Religious T...                False   \n",
       "2                                                                   False   \n",
       "3  Fuck all religion. Fuck Hindusim, fuck Islam, ...                False   \n",
       "4                                                                   False   \n",
       "\n",
       "         author     flair  score           timestamp  comments_count  \\\n",
       "0     RajaRajaC      Food    144 2015-03-14 02:03:49             158   \n",
       "1   r_india_mod      Food     35 2015-08-22 03:07:11              98   \n",
       "2  sinsandtonic  Politics   9939 2020-04-11 20:47:54             867   \n",
       "3        pking3  Politics  17906 2020-02-26 19:40:49            4190   \n",
       "4   sudden_dust  Politics   1345 2020-04-26 05:05:43             127   \n",
       "\n",
       "   crossposts_count                                           comments  \\\n",
       "0                 0                           Nice, waiting for more.    \n",
       "1                 0  Nice. Also please try and do a full revision o...   \n",
       "2                 8  Source— https://www.thecitizen.in/index.php/en...   \n",
       "3                36  We're not going to get blown out in a supernov...   \n",
       "4                 2  1,76,000 crore scam was real transparency.... ...   \n",
       "\n",
       "  removed_by  self_posted   nsfw  is_stickied  \\\n",
       "0       None         True  False        False   \n",
       "1       None         True  False        False   \n",
       "2       None        False  False        False   \n",
       "3       None         True  False        False   \n",
       "4       None        False  False        False   \n",
       "\n",
       "                                                 url  \n",
       "0  https://www.reddit.com/r/india/comments/2ywjv0...  \n",
       "1  https://www.reddit.com/r/india/comments/3huilc...  \n",
       "2                https://i.redd.it/3rol63nk35s41.jpg  \n",
       "3  https://www.reddit.com/r/india/comments/f9outu...  \n",
       "4                https://i.redd.it/uw1w1ha5hzu41.jpg  "
      ]
     },
     "execution_count": 10,
     "metadata": {},
     "output_type": "execute_result"
    }
   ],
   "source": [
    "all_rIndia = all_rIndia.assign(timestamp = tstmp)\n",
    "all_rIndia.head()"
   ]
  },
  {
   "cell_type": "code",
   "execution_count": 11,
   "metadata": {},
   "outputs": [
    {
     "data": {
      "text/plain": [
       "Politics              250\n",
       "Scheduled             250\n",
       "Coronavirus           249\n",
       "Business/Finance      247\n",
       "Policy/Economy        245\n",
       "Non-Political         245\n",
       "Science/Technology    244\n",
       "Photography           243\n",
       "AskIndia              241\n",
       "Sports                215\n",
       "Food                    2\n",
       "Name: flair, dtype: int64"
      ]
     },
     "execution_count": 11,
     "metadata": {},
     "output_type": "execute_result"
    }
   ],
   "source": [
    "all_rIndia.flair.value_counts()"
   ]
  },
  {
   "cell_type": "code",
   "execution_count": 12,
   "metadata": {},
   "outputs": [],
   "source": [
    "# all_hot_rindia['timestamp']= pd.to_datetime(all_hot_rindia.timestamp)\n",
    "# all_hot_rindia.sort_values(by='timestamp')"
   ]
  },
  {
   "cell_type": "code",
   "execution_count": 13,
   "metadata": {},
   "outputs": [],
   "source": [
    "#all_rIndia.to_csv('all_rIndiaScrape.csv',index=False)"
   ]
  },
  {
   "cell_type": "code",
   "execution_count": 14,
   "metadata": {},
   "outputs": [],
   "source": [
    "all_rIndia.to_csv('all_rIndiaScrape4.csv',index=False)"
   ]
  },
  {
   "cell_type": "code",
   "execution_count": null,
   "metadata": {},
   "outputs": [],
   "source": []
  }
 ],
 "metadata": {
  "kernelspec": {
   "display_name": "Python 3",
   "language": "python",
   "name": "python3"
  },
  "language_info": {
   "codemirror_mode": {
    "name": "ipython",
    "version": 3
   },
   "file_extension": ".py",
   "mimetype": "text/x-python",
   "name": "python",
   "nbconvert_exporter": "python",
   "pygments_lexer": "ipython3",
   "version": "3.7.4"
  }
 },
 "nbformat": 4,
 "nbformat_minor": 4
}
