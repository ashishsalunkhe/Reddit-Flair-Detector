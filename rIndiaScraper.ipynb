{
 "cells": [
  {
   "cell_type": "markdown",
   "metadata": {},
   "source": [
    "<h1>Ashish Salunkhe <br>\n",
    "ashishsalunkhe@ieee.org <br></h1>\n",
    "<h3>Scraper for r/India</h3>"
   ]
  },
  {
   "cell_type": "markdown",
   "metadata": {},
   "source": [
    "Importing Packages"
   ]
  },
  {
   "cell_type": "code",
   "execution_count": 2,
   "metadata": {},
   "outputs": [],
   "source": [
    "import praw # Python Reddit API Wrapper\n",
    "import pandas as pd\n",
    "import os\n",
    "from datetime import datetime\n",
    "from tqdm import tqdm"
   ]
  },
  {
   "cell_type": "markdown",
   "metadata": {},
   "source": [
    "Creating reddit object for passing required credentials"
   ]
  },
  {
   "cell_type": "code",
   "execution_count": 3,
   "metadata": {},
   "outputs": [],
   "source": [
    "reddit = praw.Reddit(client_id='-mb7llu03-AJvg', client_secret='YFPwnS8jjILemmCRNvzM3SAZKT4', user_agent='redditflare', username='ashishsalunkhe',password='red@2722ash')"
   ]
  },
  {
   "cell_type": "markdown",
   "metadata": {},
   "source": [
    "To understand commands available using reddit object"
   ]
  },
  {
   "cell_type": "code",
   "execution_count": 4,
   "metadata": {},
   "outputs": [],
   "source": [
    "#help(reddit)"
   ]
  },
  {
   "cell_type": "markdown",
   "metadata": {},
   "source": [
    "Selecting subreddit and creating a list of flairs to scrape"
   ]
  },
  {
   "cell_type": "code",
   "execution_count": 27,
   "metadata": {},
   "outputs": [],
   "source": [
    "# selected \"india\" as the subreddit\n",
    "subreddit = reddit.subreddit('india')\n",
    "\n",
    "# created a dictionary to store features\n",
    "rindia = { \"id\": [],\n",
    "          \"title\": [],\n",
    "          \"content\": [],\n",
    "          \"is_original_content\": [],\n",
    "          \"author\": [],\n",
    "          \"flair\": [],\n",
    "          \"score\": [],\n",
    "          \"timestamp\": [],\n",
    "          \"comments_count\": [],\n",
    "          \"crossposts_count\": [],\n",
    "          \"comments\": [],\n",
    "          \"removed_by\": [],\n",
    "          \"self_posted\": [],\n",
    "          \"nsfw\": [],\n",
    "          \"is_stickied\": [],\n",
    "          \"url\": []\n",
    "         }\n",
    "# list of flairs to scrape related posts\n",
    "# flairs = [\"Coronavirus\",\"Scheduled\", \"AskIndia\", \"[R]eddiquette\", \n",
    "#            \"Politics\",\"Non-Political\", \"Business/Finance\",\n",
    "#           \"Policy/Economy\", \"Science/Technology\", \"Sports\", \"Food\", \"AMA\",\"Photography\"]\n",
    "flairs = [\"AMA\",\"Food\",\"[R]eddiquette\",\"Politics\",\"Scheduled\",\"Photography\",\"Policy/Economy\",\"AskIndia\",\"Sports\",\n",
    "          \"Non-Political\",\"Science/Technology\",\"Business/Finance\",\"Coronavirus\"]"
   ]
  },
  {
   "cell_type": "markdown",
   "metadata": {},
   "source": [
    "Scraping the submissions under every flair listed and comments upto 20 under every submission"
   ]
  },
  {
   "cell_type": "code",
   "execution_count": 28,
   "metadata": {},
   "outputs": [
    {
     "name": "stderr",
     "output_type": "stream",
     "text": [
      "100%|██████████| 13/13 [1:37:51<00:00, 451.67s/it]\n"
     ]
    }
   ],
   "source": [
    "for flair in tqdm(flairs):\n",
    "    \n",
    "  # getting subreddits with limit 2000 subreddits per flair\n",
    "  get_subreddits = subreddit.search(f\"flair_name:{flair}\", limit = 2000)\n",
    "  \n",
    "  for submission in get_subreddits:\n",
    "    \n",
    "    rindia[\"id\"].append(submission.id)\n",
    "    rindia[\"title\"].append(submission.title)\n",
    "    rindia[\"content\"].append(submission.selftext)\n",
    "    rindia[\"is_original_content\"].append(submission.is_original_content)\n",
    "    rindia[\"author\"].append(submission.author)\n",
    "    rindia[\"flair\"].append(flair)\n",
    "    rindia[\"score\"].append(submission.score)\n",
    "    rindia[\"timestamp\"].append(submission.created)\n",
    "    rindia[\"comments_count\"].append(submission.num_comments)    \n",
    "    rindia[\"crossposts_count\"].append(submission.num_crossposts)\n",
    "    rindia[\"removed_by\"].append(submission.removed_by)\n",
    "    rindia[\"self_posted\"].append(submission.is_self)\n",
    "    rindia[\"nsfw\"].append(submission.over_18)\n",
    "    rindia[\"is_stickied\"].append(submission.stickied)\n",
    "    rindia[\"url\"].append(submission.url)\n",
    "    \n",
    "    comments =  ''\n",
    "    submission.comments.replace_more(limit=0)\n",
    "    \n",
    "    # total comments limit upto 15\n",
    "    limit = 20\n",
    "    i = 0\n",
    "    for comment in submission.comments.list():\n",
    "        comments = comment.body + \" \"\n",
    "        i = i+1\n",
    "        if(i > limit):\n",
    "            break\n",
    "    rindia[\"comments\"].append(comments)"
   ]
  },
  {
   "cell_type": "code",
   "execution_count": 20,
   "metadata": {},
   "outputs": [],
   "source": [
    "# subreddit = reddit.subreddit('india')\n",
    "\n",
    "# #scraping hot posts on reddit\n",
    "# hot_rindia = subreddit.hot(limit=2000)\n",
    "\n",
    "# all_hot_rindia = []\n",
    "\n",
    "# for submission in hot_rindia:\n",
    "#     post={\n",
    "#         \"id\": submission.id,\n",
    "#         \"title\": submission.title,\n",
    "#         \"content\": submission.selftext,\n",
    "#         \"author\": submission.author,\n",
    "#         \"flair\": submission.link_flair_text,\n",
    "#         \"is_original_content\": submission.is_original_content,\n",
    "#         \"author_flair_text\": submission.author_flair_text,\n",
    "#         \"self_posted\": submission.is_self,\n",
    "#         #\"domain\": submission.domain,\n",
    "#         \"is_stickied\":submission.stickied,\n",
    "#         \"comments_count\": submission.num_comments,\n",
    "#         \"crossposts_count\": submission.num_crossposts,\n",
    "#         #\"num_reports\": submission.num_reports,\n",
    "#         \"nsfw\": submission.over_18,\n",
    "#         \"removed_by\": submission.removed_by,\n",
    "#         \"removed_by_category\": submission.removed_by_category,\n",
    "#         \"gilded\": submission.gilded,\n",
    "#         \"timestamp\": submission.created,\n",
    "#         \"score\": submission.score,\n",
    "#         #\"subreddit\": submission.subreddit,\n",
    "#         #\"upvotes\": submission.upvote,\n",
    "#         #\"upvote_ratio\": submission.upvote_ratio,\n",
    "#         #\"downvotes\": submission.downvote,\n",
    "#         \"url\": submission.url\n",
    "#     }\n",
    "#     all_hot_rindia.append(post)"
   ]
  },
  {
   "cell_type": "markdown",
   "metadata": {},
   "source": [
    "Creating a dataframe of the scraped data"
   ]
  },
  {
   "cell_type": "code",
   "execution_count": 29,
   "metadata": {},
   "outputs": [],
   "source": [
    "all_rIndia = pd.DataFrame(rindia)"
   ]
  },
  {
   "cell_type": "code",
   "execution_count": 32,
   "metadata": {},
   "outputs": [
    {
     "data": {
      "text/html": [
       "<div>\n",
       "<style scoped>\n",
       "    .dataframe tbody tr th:only-of-type {\n",
       "        vertical-align: middle;\n",
       "    }\n",
       "\n",
       "    .dataframe tbody tr th {\n",
       "        vertical-align: top;\n",
       "    }\n",
       "\n",
       "    .dataframe thead th {\n",
       "        text-align: right;\n",
       "    }\n",
       "</style>\n",
       "<table border=\"1\" class=\"dataframe\">\n",
       "  <thead>\n",
       "    <tr style=\"text-align: right;\">\n",
       "      <th></th>\n",
       "      <th>id</th>\n",
       "      <th>title</th>\n",
       "      <th>content</th>\n",
       "      <th>is_original_content</th>\n",
       "      <th>author</th>\n",
       "      <th>flair</th>\n",
       "      <th>score</th>\n",
       "      <th>timestamp</th>\n",
       "      <th>comments_count</th>\n",
       "      <th>crossposts_count</th>\n",
       "      <th>comments</th>\n",
       "      <th>removed_by</th>\n",
       "      <th>self_posted</th>\n",
       "      <th>nsfw</th>\n",
       "      <th>is_stickied</th>\n",
       "      <th>url</th>\n",
       "    </tr>\n",
       "  </thead>\n",
       "  <tbody>\n",
       "    <tr>\n",
       "      <th>0</th>\n",
       "      <td>2ywjv0</td>\n",
       "      <td>A Tale of an old man, fiery writer, his mega a...</td>\n",
       "      <td>As asked by /u/crozyguy. Not a referenced, cit...</td>\n",
       "      <td>False</td>\n",
       "      <td>RajaRajaC</td>\n",
       "      <td>Food</td>\n",
       "      <td>137</td>\n",
       "      <td>1.426279e+09</td>\n",
       "      <td>158</td>\n",
       "      <td>0</td>\n",
       "      <td>Beg your pardon , Jayalalitha is a Srirangam n...</td>\n",
       "      <td>None</td>\n",
       "      <td>True</td>\n",
       "      <td>False</td>\n",
       "      <td>False</td>\n",
       "      <td>https://www.reddit.com/r/india/comments/2ywjv0...</td>\n",
       "    </tr>\n",
       "    <tr>\n",
       "      <th>1</th>\n",
       "      <td>3huilc</td>\n",
       "      <td>[R] Updated Wiki, Rules &amp; Flairs</td>\n",
       "      <td>#Comment Moderation in Political &amp; Religious T...</td>\n",
       "      <td>False</td>\n",
       "      <td>r_india_mod</td>\n",
       "      <td>Food</td>\n",
       "      <td>35</td>\n",
       "      <td>1.440193e+09</td>\n",
       "      <td>98</td>\n",
       "      <td>0</td>\n",
       "      <td>Also, /r/IndianPeopleFacebook should be listed...</td>\n",
       "      <td>None</td>\n",
       "      <td>True</td>\n",
       "      <td>False</td>\n",
       "      <td>False</td>\n",
       "      <td>https://www.reddit.com/r/india/comments/3huilc...</td>\n",
       "    </tr>\n",
       "    <tr>\n",
       "      <th>2</th>\n",
       "      <td>2cnzjy</td>\n",
       "      <td>[MOD POST] /r/india needs your help to maintai...</td>\n",
       "      <td>Hi /r/India,  \\nStanding close to the 26,000 s...</td>\n",
       "      <td>False</td>\n",
       "      <td>AwkwardDev</td>\n",
       "      <td>[R]eddiquette</td>\n",
       "      <td>230</td>\n",
       "      <td>1.407249e+09</td>\n",
       "      <td>420</td>\n",
       "      <td>0</td>\n",
       "      <td>Areee yaar you mods are now behaving like wiki...</td>\n",
       "      <td>None</td>\n",
       "      <td>True</td>\n",
       "      <td>False</td>\n",
       "      <td>False</td>\n",
       "      <td>https://www.reddit.com/r/india/comments/2cnzjy...</td>\n",
       "    </tr>\n",
       "    <tr>\n",
       "      <th>3</th>\n",
       "      <td>fyyx8c</td>\n",
       "      <td>The wealth inequality in India is truly horrif...</td>\n",
       "      <td></td>\n",
       "      <td>False</td>\n",
       "      <td>sinsandtonic</td>\n",
       "      <td>Politics</td>\n",
       "      <td>9936</td>\n",
       "      <td>1.586618e+09</td>\n",
       "      <td>867</td>\n",
       "      <td>8</td>\n",
       "      <td>This make me mad</td>\n",
       "      <td>None</td>\n",
       "      <td>False</td>\n",
       "      <td>False</td>\n",
       "      <td>False</td>\n",
       "      <td>https://i.redd.it/3rol63nk35s41.jpg</td>\n",
       "    </tr>\n",
       "    <tr>\n",
       "      <th>4</th>\n",
       "      <td>f9outu</td>\n",
       "      <td>Fuck all Religion</td>\n",
       "      <td>Fuck all religion. Fuck Hindusim, fuck Islam, ...</td>\n",
       "      <td>False</td>\n",
       "      <td>pking3</td>\n",
       "      <td>Politics</td>\n",
       "      <td>17910</td>\n",
       "      <td>1.582726e+09</td>\n",
       "      <td>4190</td>\n",
       "      <td>36</td>\n",
       "      <td>This. This right here!! Fuckkk all religion!!!...</td>\n",
       "      <td>None</td>\n",
       "      <td>True</td>\n",
       "      <td>False</td>\n",
       "      <td>False</td>\n",
       "      <td>https://www.reddit.com/r/india/comments/f9outu...</td>\n",
       "    </tr>\n",
       "  </tbody>\n",
       "</table>\n",
       "</div>"
      ],
      "text/plain": [
       "       id                                              title  \\\n",
       "0  2ywjv0  A Tale of an old man, fiery writer, his mega a...   \n",
       "1  3huilc                   [R] Updated Wiki, Rules & Flairs   \n",
       "2  2cnzjy  [MOD POST] /r/india needs your help to maintai...   \n",
       "3  fyyx8c  The wealth inequality in India is truly horrif...   \n",
       "4  f9outu                                  Fuck all Religion   \n",
       "\n",
       "                                             content  is_original_content  \\\n",
       "0  As asked by /u/crozyguy. Not a referenced, cit...                False   \n",
       "1  #Comment Moderation in Political & Religious T...                False   \n",
       "2  Hi /r/India,  \\nStanding close to the 26,000 s...                False   \n",
       "3                                                                   False   \n",
       "4  Fuck all religion. Fuck Hindusim, fuck Islam, ...                False   \n",
       "\n",
       "         author          flair  score     timestamp  comments_count  \\\n",
       "0     RajaRajaC           Food    137  1.426279e+09             158   \n",
       "1   r_india_mod           Food     35  1.440193e+09              98   \n",
       "2    AwkwardDev  [R]eddiquette    230  1.407249e+09             420   \n",
       "3  sinsandtonic       Politics   9936  1.586618e+09             867   \n",
       "4        pking3       Politics  17910  1.582726e+09            4190   \n",
       "\n",
       "   crossposts_count                                           comments  \\\n",
       "0                 0  Beg your pardon , Jayalalitha is a Srirangam n...   \n",
       "1                 0  Also, /r/IndianPeopleFacebook should be listed...   \n",
       "2                 0  Areee yaar you mods are now behaving like wiki...   \n",
       "3                 8                                  This make me mad    \n",
       "4                36  This. This right here!! Fuckkk all religion!!!...   \n",
       "\n",
       "  removed_by  self_posted   nsfw  is_stickied  \\\n",
       "0       None         True  False        False   \n",
       "1       None         True  False        False   \n",
       "2       None         True  False        False   \n",
       "3       None        False  False        False   \n",
       "4       None         True  False        False   \n",
       "\n",
       "                                                 url  \n",
       "0  https://www.reddit.com/r/india/comments/2ywjv0...  \n",
       "1  https://www.reddit.com/r/india/comments/3huilc...  \n",
       "2  https://www.reddit.com/r/india/comments/2cnzjy...  \n",
       "3                https://i.redd.it/3rol63nk35s41.jpg  \n",
       "4  https://www.reddit.com/r/india/comments/f9outu...  "
      ]
     },
     "execution_count": 32,
     "metadata": {},
     "output_type": "execute_result"
    }
   ],
   "source": [
    "all_rIndia.head()"
   ]
  },
  {
   "cell_type": "markdown",
   "metadata": {},
   "source": [
    "Checking the count of submissions under every flair"
   ]
  },
  {
   "cell_type": "code",
   "execution_count": 33,
   "metadata": {},
   "outputs": [
    {
     "data": {
      "text/plain": [
       "Politics              250\n",
       "Scheduled             250\n",
       "Coronavirus           249\n",
       "Business/Finance      247\n",
       "Policy/Economy        245\n",
       "Non-Political         245\n",
       "Science/Technology    244\n",
       "Photography           243\n",
       "AskIndia              241\n",
       "Sports                215\n",
       "Food                    2\n",
       "[R]eddiquette           1\n",
       "Name: flair, dtype: int64"
      ]
     },
     "execution_count": 33,
     "metadata": {},
     "output_type": "execute_result"
    }
   ],
   "source": [
    "all_rIndia.flair.value_counts()"
   ]
  },
  {
   "cell_type": "markdown",
   "metadata": {},
   "source": [
    "Storing to CSV file"
   ]
  },
  {
   "cell_type": "code",
   "execution_count": 35,
   "metadata": {},
   "outputs": [],
   "source": [
    "all_rIndia.to_csv('all_rIndiaScrapeFinal.csv',index=False)"
   ]
  }
 ],
 "metadata": {
  "kernelspec": {
   "display_name": "Python 3",
   "language": "python",
   "name": "python3"
  },
  "language_info": {
   "codemirror_mode": {
    "name": "ipython",
    "version": 3
   },
   "file_extension": ".py",
   "mimetype": "text/x-python",
   "name": "python",
   "nbconvert_exporter": "python",
   "pygments_lexer": "ipython3",
   "version": "3.7.4"
  }
 },
 "nbformat": 4,
 "nbformat_minor": 4
}
